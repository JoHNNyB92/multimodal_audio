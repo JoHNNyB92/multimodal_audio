{
 "cells": [
  {
   "cell_type": "code",
   "execution_count": null,
   "metadata": {
    "collapsed": true
   },
   "outputs": [],
   "source": [
    "#https://mubaris.com/posts/movie-analysis/"
   ]
  },
  {
   "cell_type": "markdown",
   "metadata": {},
   "source": [
    "# Imports"
   ]
  },
  {
   "cell_type": "code",
   "execution_count": 18,
   "metadata": {
    "collapsed": true
   },
   "outputs": [],
   "source": [
    "import pysrt\n",
    "\n"
   ]
  },
  {
   "cell_type": "markdown",
   "metadata": {},
   "source": [
    "# Handling srt Subtitles"
   ]
  },
  {
   "cell_type": "code",
   "execution_count": null,
   "metadata": {
    "collapsed": true
   },
   "outputs": [],
   "source": [
    "# Loading the Subtitle\n",
    "subs = pysrt.open('/home/mscuser/multimodal/multimodal_audio/Joey Bada$$ Talks Style, Activism, and Crystals-iY6dw9dEqfo.en.srt')\n",
    "subtitles={}\n",
    "len_subs=len(subs)\n",
    "for i in range(len_subs):\n",
    "    sub = subs[i]\n",
    "\n",
    "    # Subtitle text\n",
    "    text = sub.text\n",
    "    text_without_tags = sub.text_without_tags\n",
    "\n",
    "    # Start and End time\n",
    "    start = sub.start.to_time()\n",
    "    end = sub.end.to_time()\n",
    "    subtitles[i]=[[text,text_without_tags,start,end]]\n",
    "# Removing line and saving\n",
    "#del subs[index]\n",
    "#subs.save('/home/mscuser/multimodal/multimodal_audio/Joey Bada$$ Talks Style, Activism, and Crystals-iY6dw9dEqfo.en.srt')"
   ]
  },
  {
   "cell_type": "code",
   "execution_count": 19,
   "metadata": {},
   "outputs": [
    {
     "name": "stdout",
     "output_type": "stream",
     "text": [
      "172\n"
     ]
    }
   ],
   "source": [
    "print len(subtitles)"
   ]
  },
  {
   "cell_type": "code",
   "execution_count": 20,
   "metadata": {},
   "outputs": [
    {
     "name": "stdout",
     "output_type": "stream",
     "text": [
      "[[u\"she's like oh<c.colorCCCCCC> my god a rap video\\n </c>\", u\"she's like oh my god a rap video\\n \", datetime.time(0, 0, 11, 230000), datetime.time(0, 0, 11, 240000)]]\n"
     ]
    }
   ],
   "source": [
    "print subtitles[0]"
   ]
  },
  {
   "cell_type": "code",
   "execution_count": null,
   "metadata": {
    "collapsed": true
   },
   "outputs": [],
   "source": []
  }
 ],
 "metadata": {
  "kernelspec": {
   "display_name": "Python 2",
   "language": "python",
   "name": "python2"
  },
  "language_info": {
   "codemirror_mode": {
    "name": "ipython",
    "version": 2
   },
   "file_extension": ".py",
   "mimetype": "text/x-python",
   "name": "python",
   "nbconvert_exporter": "python",
   "pygments_lexer": "ipython2",
   "version": "2.7.13"
  }
 },
 "nbformat": 4,
 "nbformat_minor": 2
}
