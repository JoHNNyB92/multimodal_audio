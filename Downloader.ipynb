{
 "cells": [
  {
   "cell_type": "markdown",
   "metadata": {
    "collapsed": true
   },
   "source": [
    "# Read csv file with the urls, download the english caption , convert form .vtt format to .srt, download mp3, convert to wav\n"
   ]
  },
  {
   "cell_type": "markdown",
   "metadata": {},
   "source": [
    "# Imports"
   ]
  },
  {
   "cell_type": "code",
   "execution_count": 3,
   "metadata": {},
   "outputs": [
    {
     "ename": "ImportError",
     "evalue": "No module named audioBasicIO",
     "output_type": "error",
     "traceback": [
      "\u001b[0;31m---------------------------------------------------------------------------\u001b[0m",
      "\u001b[0;31mImportError\u001b[0m                               Traceback (most recent call last)",
      "\u001b[0;32m<ipython-input-3-ebfbeae1e03c>\u001b[0m in \u001b[0;36m<module>\u001b[0;34m()\u001b[0m\n\u001b[1;32m      6\u001b[0m \u001b[0;34m\u001b[0m\u001b[0m\n\u001b[1;32m      7\u001b[0m \u001b[0;34m\u001b[0m\u001b[0m\n\u001b[0;32m----> 8\u001b[0;31m \u001b[0;32mimport\u001b[0m \u001b[0maudioBasicIO\u001b[0m\u001b[0;34m\u001b[0m\u001b[0m\n\u001b[0m\u001b[1;32m      9\u001b[0m \u001b[0;32mimport\u001b[0m \u001b[0mutilities\u001b[0m \u001b[0;32mas\u001b[0m \u001b[0muT\u001b[0m\u001b[0;34m\u001b[0m\u001b[0m\n\u001b[1;32m     10\u001b[0m \u001b[0;32mimport\u001b[0m \u001b[0mscipy\u001b[0m\u001b[0;34m.\u001b[0m\u001b[0mio\u001b[0m\u001b[0;34m.\u001b[0m\u001b[0mwavfile\u001b[0m \u001b[0;32mas\u001b[0m \u001b[0mwavfile\u001b[0m\u001b[0;34m\u001b[0m\u001b[0m\n",
      "\u001b[0;31mImportError\u001b[0m: No module named audioBasicIO"
     ]
    }
   ],
   "source": [
    "import csv\n",
    "import os\n",
    "import os, re, sys\n",
    "from stat import *\n",
    "import matplotlib.pyplot as plt\n",
    "\n",
    "\n",
    "import audioBasicIO\n",
    "import utilities as uT\n",
    "import scipy.io.wavfile as wavfile"
   ]
  },
  {
   "cell_type": "code",
   "execution_count": null,
   "metadata": {
    "collapsed": true
   },
   "outputs": [],
   "source": [
    "#prepei na exw onoma, url, srt, vtt,se seira,"
   ]
  },
  {
   "cell_type": "markdown",
   "metadata": {},
   "source": [
    "# URLs of youtube videos"
   ]
  },
  {
   "cell_type": "code",
   "execution_count": 2,
   "metadata": {},
   "outputs": [
    {
     "data": {
      "text/plain": [
       "'/home/mscuser/multimodal/multimodal_audio'"
      ]
     },
     "execution_count": 2,
     "metadata": {},
     "output_type": "execute_result"
    }
   ],
   "source": [
    "os.chdir('/home/mscuser/multimodal/multimodal_audio')\n",
    "\n",
    "os.getcwd()"
   ]
  },
  {
   "cell_type": "code",
   "execution_count": 3,
   "metadata": {},
   "outputs": [
    {
     "name": "stdout",
     "output_type": "stream",
     "text": [
      "https://www.youtube.com/watch?v=zkpelP3x0mw\n",
      "https://www.youtube.com/watch?v=w3SXzjAfJLk\n",
      "https://www.youtube.com/watch?v=QV9nArq7phA\n"
     ]
    }
   ],
   "source": [
    "urls=[]\n",
    "with open(\"dataset.csv\", \"rb\") as f:\n",
    "    reader = csv.reader(f, delimiter=\"\\t\")\n",
    "    for i, line in enumerate(reader):\n",
    "        print (line[0])\n",
    "        urls.append(line[0])"
   ]
  },
  {
   "cell_type": "markdown",
   "metadata": {},
   "source": [
    "# Download avalibale caption in English"
   ]
  },
  {
   "cell_type": "raw",
   "metadata": {
    "collapsed": true
   },
   "source": [
    "youtube-dl --write-auto-sub --skip-download --sub-lang=en https://www.youtube.com/watch?v=iY6dw9dEqfo"
   ]
  },
  {
   "cell_type": "code",
   "execution_count": 9,
   "metadata": {},
   "outputs": [
    {
     "name": "stdout",
     "output_type": "stream",
     "text": [
      "youtube-dl --write-auto-sub --skip-download --sub-lang=en https://www.youtube.com/watch?v=zkpelP3x0mw\n",
      "2\n",
      "youtube-dl --write-auto-sub --skip-download --sub-lang=en https://www.youtube.com/watch?v=w3SXzjAfJLk\n",
      "2\n",
      "youtube-dl --write-auto-sub --skip-download --sub-lang=en https://www.youtube.com/watch?v=QV9nArq7phA\n",
      "2\n"
     ]
    },
    {
     "data": {
      "text/plain": [
       "'/home/mscuser/multimodal/multimodal_audio'"
      ]
     },
     "execution_count": 9,
     "metadata": {},
     "output_type": "execute_result"
    }
   ],
   "source": [
    "for i in urls:\n",
    "        strcaption='youtube-dl --write-auto-sub --skip-download --sub-lang=en ' + i\n",
    "        strmp3='youtube-dl --extract-audio --audio-format mp3 ' + i\n",
    "        print strcaption, strmp3\n",
    "        os.system(strcaption)\n",
    "        os.system(strmp3)\n",
    "os.getcwd()"
   ]
  },
  {
   "cell_type": "markdown",
   "metadata": {},
   "source": [
    "# Convert vtt fil to srt"
   ]
  },
  {
   "cell_type": "code",
   "execution_count": 10,
   "metadata": {
    "collapsed": true
   },
   "outputs": [],
   "source": [
    "\n",
    "def convertContent(fileContents):\n",
    "\n",
    "    replacement = re.sub(r'([\\d]+)\\.([\\d]+)', r'\\1,\\2', fileContents)\n",
    "    replacement = re.sub(r'WEBVTT\\n\\n', '', replacement)\n",
    "    replacement = re.sub(r'^\\d+\\n', '', replacement)\n",
    "    replacement = re.sub(r'\\n\\d+\\n', '\\n', replacement)\n",
    "\n",
    "    return replacement\n",
    "\n",
    "def fileCreate(strNamaFile, strData):\n",
    "#--------------------------------\n",
    "# create a text file\n",
    "\n",
    "    try:\n",
    "        f = open(strNamaFile, \"w\")\n",
    "        f.writelines(str(strData))\n",
    "        f.close()\n",
    "    except IOError:\n",
    "        strNamaFile = strNamaFile.split(os.sep)[-1]\n",
    "        f = open(strNamaFile, \"w\")\n",
    "        f.writelines(str(strData))\n",
    "        f.close()\n",
    "        print \"file created: \" + strNamaFile + \"\\n\"\n",
    "\n",
    "def readTextFile(strNamaFile):\n",
    "    f = open(strNamaFile, \"r\")\n",
    "    print \"file being read: \" + strNamaFile + \"\\n\"\n",
    "    return f.read().decode(\"windows-1252\").encode('ascii', 'ignore')\n",
    "\n",
    "def vtt_to_srt(strNamaFile):\n",
    "    fileContents = readTextFile(strNamaFile)\n",
    "    strData = \"\"\n",
    "    strData = strData + convertContent(fileContents)\n",
    "    strNamaFile = strNamaFile.replace(\".vtt\",\".srt\")\n",
    "    print strNamaFile\n",
    "    \n",
    "    fileCreate(strNamaFile, strData)\n",
    "\n",
    "\n",
    "def walktree(TopMostPath, callback):\n",
    "\n",
    "    '''recursively descend the directory tree rooted at TopMostPath,\n",
    "       calling the callback function for each regular file'''\n",
    "\n",
    "    for f in os.listdir(TopMostPath):\n",
    "        pathname = os.path.join(TopMostPath, f)\n",
    "        mode = os.stat(pathname)[ST_MODE]\n",
    "        if S_ISDIR(mode):\n",
    "            # It's a directory, recurse into it\n",
    "            walktree(pathname, callback)\n",
    "        elif S_ISREG(mode):\n",
    "            # It's a file, call the callback function\n",
    "            callback(pathname)\n",
    "        else:\n",
    "            # Unknown file type, print a message\n",
    "            print 'Skipping %s' % pathname\n",
    "\n",
    "\n",
    "def convertVTTtoSRT(file):\n",
    "    if '.vtt' in file:\n",
    "        vtt_to_srt(file)\n",
    "\n"
   ]
  },
  {
   "cell_type": "code",
   "execution_count": 11,
   "metadata": {},
   "outputs": [
    {
     "name": "stdout",
     "output_type": "stream",
     "text": [
      "/home/mscuser/multimodal/multimodal_audio/Travis Scott Shows Off His Broadway Musical Abilities-QV9nArq7phA.en.vtt\n",
      "file being read: /home/mscuser/multimodal/multimodal_audio/Travis Scott Shows Off His Broadway Musical Abilities-QV9nArq7phA.en.vtt\n",
      "\n",
      "/home/mscuser/multimodal/multimodal_audio/Travis Scott Shows Off His Broadway Musical Abilities-QV9nArq7phA.en.srt\n",
      "/home/mscuser/multimodal/multimodal_audio/Tips for a successful interview - applying for a healthcare course at Birmingham City University-yybFJ5WkCDo.en.vtt\n",
      "file being read: /home/mscuser/multimodal/multimodal_audio/Tips for a successful interview - applying for a healthcare course at Birmingham City University-yybFJ5WkCDo.en.vtt\n",
      "\n",
      "/home/mscuser/multimodal/multimodal_audio/Tips for a successful interview - applying for a healthcare course at Birmingham City University-yybFJ5WkCDo.en.srt\n"
     ]
    }
   ],
   "source": [
    "path = '/home/mscuser/multimodal/multimodal_audio'\n",
    "\n",
    "\n",
    "walktree(path, convertVTTtoSRT)"
   ]
  },
  {
   "cell_type": "markdown",
   "metadata": {
    "collapsed": true
   },
   "source": [
    "# Convert mp3 to wav"
   ]
  },
  {
   "cell_type": "raw",
   "metadata": {},
   "source": [
    "call function: dirMp3toWav from pyaudioAnalysis with args:16000 -c 1\n",
    "        "
   ]
  },
  {
   "cell_type": "code",
   "execution_count": 4,
   "metadata": {},
   "outputs": [
    {
     "data": {
      "text/plain": [
       "0"
      ]
     },
     "execution_count": 4,
     "metadata": {},
     "output_type": "execute_result"
    }
   ],
   "source": [
    "cmd='python /home/mscuser/pyaudio/pyAudioAnalysis/pyAudioAnalysis/audioAnalysis.py dirMp3toWav -i /home/mscuser/multimodal/multimodal_audio -r 16000 -c 1'\n",
    "os.system(cmd)\n",
    "\n"
   ]
  },
  {
   "cell_type": "code",
   "execution_count": null,
   "metadata": {
    "collapsed": true
   },
   "outputs": [],
   "source": []
  }
 ],
 "metadata": {
  "kernelspec": {
   "display_name": "Python 2",
   "language": "python",
   "name": "python2"
  },
  "language_info": {
   "codemirror_mode": {
    "name": "ipython",
    "version": 2
   },
   "file_extension": ".py",
   "mimetype": "text/x-python",
   "name": "python",
   "nbconvert_exporter": "python",
   "pygments_lexer": "ipython2",
   "version": "2.7.13"
  }
 },
 "nbformat": 4,
 "nbformat_minor": 2
}
