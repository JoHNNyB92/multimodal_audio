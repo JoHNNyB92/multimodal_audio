{
 "cells": [
  {
   "cell_type": "markdown",
   "metadata": {
    "collapsed": true
   },
   "source": [
    "# Read csv file with the urls, download the english caption , convert form .vtt format to .srt, download mp3, convert to wav\n"
   ]
  },
  {
   "cell_type": "markdown",
   "metadata": {},
   "source": [
    "# Imports"
   ]
  },
  {
   "cell_type": "code",
   "execution_count": 1,
   "metadata": {},
   "outputs": [],
   "source": [
    "import csv\n",
    "import os\n",
    "import os, re, sys\n",
    "from stat import *\n",
    "import matplotlib.pyplot as plt\n",
    "import scipy.io.wavfile as wavfile\n",
    "from pyAudioAnalysis import audioSegmentation as aS"
   ]
  },
  {
   "cell_type": "markdown",
   "metadata": {},
   "source": [
    "# URLs of youtube videos"
   ]
  },
  {
   "cell_type": "code",
   "execution_count": 11,
   "metadata": {},
   "outputs": [
    {
     "data": {
      "text/plain": [
       "'/home/cer/Desktop/multimodal/multimodal_audio'"
      ]
     },
     "execution_count": 11,
     "metadata": {},
     "output_type": "execute_result"
    }
   ],
   "source": [
    "repo_path='/home/cer/Desktop/multimodal/multimodal_audio'\n",
    "os.chdir(repo_path)\n",
    "os.getcwd()"
   ]
  },
  {
   "cell_type": "code",
   "execution_count": 20,
   "metadata": {},
   "outputs": [
    {
     "name": "stdout",
     "output_type": "stream",
     "text": [
      "URL,Relative Path,Title,Captions Polarity Csv,Pickle,id\n",
      "https://www.youtube.com/watch?v=zkpelP3x0mw,audio/1.wav,Westley Allan Dodd - Last Interview before Execution,polarity_csv/polarity_1.csv,pickle_lists/polarity_1.p,1\n",
      "https://www.youtube.com/watch?v=w3SXzjAfJLk,audio/2.wav,Confronts Serial Killer & Causes Him To Walk Out Of The Interview!,polarity_csv/polarity_2.csv,pickle_lists/polarity_2.p,2\n",
      "https://www.youtube.com/watch?v=QV9nArq7phA,audio/3.wav,Travis Scott Shows Off His Broadway Musical Abilities,polarity_csv/polarity_3.csv,pickle_lists/polarity_3.p,3\n",
      "https://www.youtube.com/watch?v=OtgLfXqBt1o,audio/4.wav,Highlights from Theresa May's LBC phone-in,polarity_csv/polarity_4.csv,pickle_listspolarity_4.p,4\n",
      "https://www.youtube.com/watch?v=FQ6PR2LsnZw,audio/5.wav,ISRAEL POLITICS: Interview with Seth Frantzman,polarity_csv/polarity_5.csv,pickle_lists/polarity_5.p,5\n"
     ]
    }
   ],
   "source": [
    "import csv\n",
    "import pickle\n",
    "urls=[]\n",
    "with open(\"dataset.csv\", \"rt\") as f:\n",
    "    reader = csv.reader(f, delimiter=\"\\t\")\n",
    "    for i, line in enumerate(reader):\n",
    "        print (line[0])\n",
    "        urls.append(line[0])\n",
    "f=open(\"dataset.csv\", \"rt\")\n",
    "reader=csv.reader(f)\n",
    "headers = next(reader, None)\n",
    "dataset = {}\n",
    "for h in headers:\n",
    "    dataset[h] = []\n",
    "for row in reader:\n",
    "    for h, v in zip(headers, row):\n",
    "        dataset[h].append(v)\n",
    "        \n",
    "output = open('dataset_list.p', 'wb')\n",
    "pickle.dump(dataset, output)\n",
    "output.close()"
   ]
  },
  {
   "cell_type": "markdown",
   "metadata": {},
   "source": [
    "# Download available caption in English"
   ]
  },
  {
   "cell_type": "raw",
   "metadata": {
    "collapsed": true
   },
   "source": [
    "youtube-dl --write-auto-sub --skip-download --sub-lang=en https://www.youtube.com/watch?v=iY6dw9dEqfo"
   ]
  },
  {
   "cell_type": "code",
   "execution_count": 4,
   "metadata": {},
   "outputs": [
    {
     "data": {
      "text/plain": [
       "'/home/cer/Desktop/multimodal/multimodal_audio/sounds'"
      ]
     },
     "execution_count": 4,
     "metadata": {},
     "output_type": "execute_result"
    }
   ],
   "source": [
    "os.getcwd()"
   ]
  },
  {
   "cell_type": "code",
   "execution_count": 9,
   "metadata": {},
   "outputs": [
    {
     "name": "stdout",
     "output_type": "stream",
     "text": [
      "Executing youtube-dl --write-auto-sub --skip-download --sub-lang=en https://www.youtube.com/watch?v=zkpelP3x0mw in /home/cer/Desktop/multimodal/multimodal_audio/subtitles\n",
      "Executing youtube-dl --extract-audio --audio-format mp3 https://www.youtube.com/watch?v=zkpelP3x0mw in /home/cer/Desktop/multimodal/multimodal_audio/audio\n"
     ]
    },
    {
     "name": "stderr",
     "output_type": "stream",
     "text": [
      "ERROR:root:Internal Python error in the inspect module.\n",
      "Below is the traceback from this internal error.\n",
      "\n"
     ]
    },
    {
     "name": "stdout",
     "output_type": "stream",
     "text": [
      "Traceback (most recent call last):\n",
      "  File \"/usr/local/lib/python2.7/dist-packages/IPython/core/ultratb.py\", line 1132, in get_records\n",
      "    return _fixed_getinnerframes(etb, number_of_lines_of_context, tb_offset)\n",
      "  File \"/usr/local/lib/python2.7/dist-packages/IPython/core/ultratb.py\", line 313, in wrapped\n",
      "    return f(*args, **kwargs)\n",
      "  File \"/usr/local/lib/python2.7/dist-packages/IPython/core/ultratb.py\", line 358, in _fixed_getinnerframes\n",
      "    records = fix_frame_records_filenames(inspect.getinnerframes(etb, context))\n",
      "  File \"/usr/lib/python2.7/inspect.py\", line 1051, in getinnerframes\n",
      "    framelist.append((tb.tb_frame,) + getframeinfo(tb, context))\n",
      "  File \"/usr/lib/python2.7/inspect.py\", line 1011, in getframeinfo\n",
      "    filename = getsourcefile(frame) or getfile(frame)\n",
      "  File \"/usr/lib/python2.7/inspect.py\", line 453, in getsourcefile\n",
      "    if hasattr(getmodule(object, filename), '__loader__'):\n",
      "  File \"/usr/lib/python2.7/inspect.py\", line 489, in getmodule\n",
      "    for modname, module in sys.modules.items():\n",
      "KeyboardInterrupt\n"
     ]
    },
    {
     "name": "stderr",
     "output_type": "stream",
     "text": [
      "\n",
      "KeyboardInterrupt\n",
      "\n"
     ]
    }
   ],
   "source": [
    "counter=0\n",
    "for url in column[\"URL\"]:\n",
    "    counter=counter+1\n",
    "    os.chdir(\"subtitles\")\n",
    "    strcaption='youtube-dl --write-auto-sub --skip-download --output '+str(counter)+' --sub-lang=en ' + url\n",
    "    print \"Executing \"+strcaption +\" in \"+os.getcwd()\n",
    "    os.system(strcaption)\n",
    "    os.chdir(\"../audio\")\n",
    "    strmp3='youtube-dl --extract-audio --audio-format mp3 --output '+str(counter)+' '+str(url)\n",
    "    print \"Executing \"+strmp3 +\" in \"+os.getcwd()\n",
    "    os.system(strmp3)\n"
   ]
  },
  {
   "cell_type": "markdown",
   "metadata": {},
   "source": [
    "# Convert vtt fil to srt"
   ]
  },
  {
   "cell_type": "code",
   "execution_count": 13,
   "metadata": {},
   "outputs": [],
   "source": [
    "\n",
    "def convertContent(fileContents):\n",
    "\n",
    "    replacement = re.sub(r'([\\d]+)\\.([\\d]+)', r'\\1,\\2', fileContents)\n",
    "    replacement = re.sub(r'WEBVTT\\n\\n', '', replacement)\n",
    "    replacement = re.sub(r'^\\d+\\n', '', replacement)\n",
    "    replacement = re.sub(r'\\n\\d+\\n', '\\n', replacement)\n",
    "\n",
    "    return replacement\n",
    "\n",
    "def fileCreate(strNameFile, strData):\n",
    "#--------------------------------\n",
    "# create a text file\n",
    "\n",
    "    try:\n",
    "        f = open(strNameFile, \"w\")\n",
    "        f.writelines(str(strData))\n",
    "        f.close()\n",
    "    except IOError:\n",
    "        strNameFile = strNameFile.split(os.sep)[-1]\n",
    "        f = open(strNameFile, \"w\")\n",
    "        f.writelines(str(strData))\n",
    "        f.close()\n",
    "        print(\"file created: \" + strNameFile + \"\\n\")\n",
    "\n",
    "def readTextFile(strNameFile):\n",
    "    f = open(strNameFile, \"r\")\n",
    "    print(\"file being read: \" + strNameFile + \"\\n\")\n",
    "    return f.read().decode(\"windows-1252\").encode('ascii', 'ignore')\n",
    "\n",
    "def vtt_to_srt(strNameFile):\n",
    "    fileContents = readTextFile(strNameFile)\n",
    "    strData = \"\"\n",
    "    strData = strData + convertContent(fileContents)\n",
    "    strNameFile = strNameFile.replace(\".vtt\",\".srt\")\n",
    "    print(strNameFile)\n",
    "    \n",
    "    fileCreate(strNameFile, strData)\n",
    "\n",
    "\n",
    "def walktree(TopMostPath, callback):\n",
    "\n",
    "    '''recursively descend the directory tree rooted at TopMostPath,\n",
    "       calling the callback function for each regular file'''\n",
    "\n",
    "    for f in os.listdir(TopMostPath):\n",
    "        pathname = os.path.join(TopMostPath, f)\n",
    "        mode = os.stat(pathname)[ST_MODE]\n",
    "        if S_ISDIR(mode):\n",
    "            # It's a directory, recurse into it\n",
    "            walktree(pathname, callback)\n",
    "        elif S_ISREG(mode):\n",
    "            # It's a file, call the callback function\n",
    "            callback(pathname)\n",
    "        else:\n",
    "            # Unknown file type, print a message\n",
    "            print('Skipping %s' % pathname)\n",
    "\n",
    "\n",
    "def convertVTTtoSRT(file):\n",
    "    if '.vtt' in file:\n",
    "        vtt_to_srt(file)\n",
    "\n"
   ]
  },
  {
   "cell_type": "code",
   "execution_count": 14,
   "metadata": {},
   "outputs": [
    {
     "name": "stdout",
     "output_type": "stream",
     "text": [
      "file being read: /home/cer/Desktop/multimodal/multimodal_audio/subtitles/Travis Scott Shows Off His Broadway Musical Abilities-QV9nArq7phA.en.vtt\n",
      "\n",
      "/home/cer/Desktop/multimodal/multimodal_audio/subtitles/Travis Scott Shows Off His Broadway Musical Abilities-QV9nArq7phA.en.srt\n"
     ]
    }
   ],
   "source": [
    "path = repo_path+\"/subtitles\"\n",
    "\n",
    "\n",
    "walktree(path, convertVTTtoSRT)"
   ]
  },
  {
   "cell_type": "markdown",
   "metadata": {
    "collapsed": true
   },
   "source": [
    "# Convert mp3 to wav"
   ]
  },
  {
   "cell_type": "markdown",
   "metadata": {},
   "source": [
    "# call function: dirMp3toWav from pyaudioAnalysis with args:16000 -c 1\n",
    "        "
   ]
  },
  {
   "cell_type": "code",
   "execution_count": 3,
   "metadata": {},
   "outputs": [
    {
     "data": {
      "text/plain": [
       "0"
      ]
     },
     "execution_count": 3,
     "metadata": {},
     "output_type": "execute_result"
    }
   ],
   "source": [
    "cmd='python /home/cer/Desktop/multimodal/pyAudioAnalysis/pyAudioAnalysis/audioAnalysis.py dirMp3toWav -i '+repo_path+' -r 16000 -c 1'\n",
    "\n",
    "os.system(cmd)\n",
    "\n"
   ]
  },
  {
   "cell_type": "code",
   "execution_count": null,
   "metadata": {
    "collapsed": true
   },
   "outputs": [],
   "source": []
  }
 ],
 "metadata": {
  "kernelspec": {
   "display_name": "Python 2",
   "language": "python",
   "name": "python2"
  },
  "language_info": {
   "codemirror_mode": {
    "name": "ipython",
    "version": 2
   },
   "file_extension": ".py",
   "mimetype": "text/x-python",
   "name": "python",
   "nbconvert_exporter": "python",
   "pygments_lexer": "ipython2",
   "version": "2.7.15rc1"
  }
 },
 "nbformat": 4,
 "nbformat_minor": 2
}
