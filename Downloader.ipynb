{
 "cells": [
  {
   "cell_type": "markdown",
   "metadata": {
    "collapsed": true
   },
   "source": [
    "# Read csv file with the urls, download the english caption , convert form .vtt format to .srt, download mp3, convert to wav\n"
   ]
  },
  {
   "cell_type": "markdown",
   "metadata": {},
   "source": [
    "# Imports"
   ]
  },
  {
   "cell_type": "code",
   "execution_count": 2,
   "metadata": {},
   "outputs": [],
   "source": [
    "import csv\n",
    "import os\n",
    "import os, re, sys\n",
    "from stat import *\n",
    "import matplotlib.pyplot as plt\n",
    "\n",
    "\n",
    "#import audioBasicIO\n",
    "#import utilities as uT\n",
    "import scipy.io.wavfile as wavfile\n",
    "from pyAudioAnalysis import audioSegmentation as aS"
   ]
  },
  {
   "cell_type": "code",
   "execution_count": null,
   "metadata": {
    "collapsed": true
   },
   "outputs": [],
   "source": [
    "#prepei na exw onoma, url, srt, vtt,se seira,"
   ]
  },
  {
   "cell_type": "markdown",
   "metadata": {},
   "source": [
    "# URLs of youtube videos"
   ]
  },
  {
   "cell_type": "code",
   "execution_count": 2,
   "metadata": {},
   "outputs": [
    {
     "data": {
      "text/plain": [
       "'/home/cer/Desktop/multimodal/multimodal_audio'"
      ]
     },
     "execution_count": 2,
     "metadata": {},
     "output_type": "execute_result"
    }
   ],
   "source": [
    "os.chdir('/home/cer/Desktop/multimodal/multimodal_audio')\n",
    "\n",
    "os.getcwd()"
   ]
  },
  {
   "cell_type": "code",
   "execution_count": 3,
   "metadata": {},
   "outputs": [
    {
     "name": "stdout",
     "output_type": "stream",
     "text": [
      "https://www.youtube.com/watch?v=iY6dw9dEqfo\n",
      "https://www.youtube.com/watch?v=2-Q5gHGhCVI\n",
      "https://www.youtube.com/watch?v=kq7OLZGDwDk\n",
      "https://www.youtube.com/watch?v=T_-3Vbr625g\n",
      "https://www.youtube.com/watch?v=CvJc1COU9Hk\n",
      "https://www.youtube.com/watch?v=2CSc7Kn-AOY\n",
      "https://www.youtube.com/watch?v=55y_6IKFvCI\n",
      "https://www.youtube.com/watch?v=yybFJ5WkCDo\n",
      "https://www.youtube.com/watch?v=RByqcW0ewnk\n",
      "https://www.youtube.com/watch?v=frYVBZCAnWk\n",
      "https://www.youtube.com/watch?v=Icq60Uxd3As\n",
      "https://www.youtube.com/watch?v=OtgLfXqBt1o\n",
      "https://www.youtube.com/watch?v=FQ6PR2LsnZw\n",
      "https://www.youtube.com/watch?v=zkpelP3x0mw\n",
      "https://www.youtube.com/watch?v=w3SXzjAfJLk\n",
      "https://www.youtube.com/watch?v=QV9nArq7phA\n"
     ]
    }
   ],
   "source": [
    "urls=[]\n",
    "with open(\"dataset.csv\", \"rt\") as f:\n",
    "    reader = csv.reader(f, delimiter=\"\\t\")\n",
    "    for i, line in enumerate(reader):\n",
    "        print (line[0])\n",
    "        urls.append(line[0])"
   ]
  },
  {
   "cell_type": "markdown",
   "metadata": {},
   "source": [
    "# Download available caption in English"
   ]
  },
  {
   "cell_type": "raw",
   "metadata": {
    "collapsed": true
   },
   "source": [
    "youtube-dl --write-auto-sub --skip-download --sub-lang=en https://www.youtube.com/watch?v=iY6dw9dEqfo"
   ]
  },
  {
   "cell_type": "code",
   "execution_count": 4,
   "metadata": {},
   "outputs": [
    {
     "data": {
      "text/plain": [
       "'/home/cer/Desktop/multimodal/multimodal_audio/sounds'"
      ]
     },
     "execution_count": 4,
     "metadata": {},
     "output_type": "execute_result"
    }
   ],
   "source": [
    "os.chdir('/home/cer/Desktop/multimodal/multimodal_audio/sounds')\n",
    "os.getcwd()"
   ]
  },
  {
   "cell_type": "code",
   "execution_count": null,
   "metadata": {},
   "outputs": [
    {
     "name": "stdout",
     "output_type": "stream",
     "text": [
      "Iteration= https://www.youtube.com/watch?v=iY6dw9dEqfo youtube-dl --write-auto-sub --skip-download --sub-lang=en https://www.youtube.com/watch?v=iY6dw9dEqfo\n",
      "youtube-dl --extract-audio --audio-format mp3 https://www.youtube.com/watch?v=iY6dw9dEqfo\n",
      "Iteration= https://www.youtube.com/watch?v=2-Q5gHGhCVI youtube-dl --write-auto-sub --skip-download --sub-lang=en https://www.youtube.com/watch?v=2-Q5gHGhCVI\n",
      "youtube-dl --extract-audio --audio-format mp3 https://www.youtube.com/watch?v=2-Q5gHGhCVI\n",
      "Iteration= https://www.youtube.com/watch?v=kq7OLZGDwDk youtube-dl --write-auto-sub --skip-download --sub-lang=en https://www.youtube.com/watch?v=kq7OLZGDwDk\n",
      "youtube-dl --extract-audio --audio-format mp3 https://www.youtube.com/watch?v=kq7OLZGDwDk\n",
      "Iteration= https://www.youtube.com/watch?v=T_-3Vbr625g youtube-dl --write-auto-sub --skip-download --sub-lang=en https://www.youtube.com/watch?v=T_-3Vbr625g\n",
      "youtube-dl --extract-audio --audio-format mp3 https://www.youtube.com/watch?v=T_-3Vbr625g\n",
      "Iteration= https://www.youtube.com/watch?v=CvJc1COU9Hk youtube-dl --write-auto-sub --skip-download --sub-lang=en https://www.youtube.com/watch?v=CvJc1COU9Hk\n",
      "youtube-dl --extract-audio --audio-format mp3 https://www.youtube.com/watch?v=CvJc1COU9Hk\n",
      "Iteration= https://www.youtube.com/watch?v=2CSc7Kn-AOY youtube-dl --write-auto-sub --skip-download --sub-lang=en https://www.youtube.com/watch?v=2CSc7Kn-AOY\n",
      "youtube-dl --extract-audio --audio-format mp3 https://www.youtube.com/watch?v=2CSc7Kn-AOY\n",
      "Iteration= https://www.youtube.com/watch?v=55y_6IKFvCI youtube-dl --write-auto-sub --skip-download --sub-lang=en https://www.youtube.com/watch?v=55y_6IKFvCI\n"
     ]
    }
   ],
   "source": [
    "for i in urls:\n",
    "    strcaption='youtube-dl --write-auto-sub --skip-download --sub-lang=en ' + i\n",
    "    strmp3='youtube-dl --extract-audio --audio-format mp3 ' + i\n",
    "    print(\"Iteration= \"+i+\" \"+strcaption)\n",
    "    os.system(strcaption)\n",
    "    print(strmp3)\n",
    "    os.system(strmp3)\n"
   ]
  },
  {
   "cell_type": "markdown",
   "metadata": {},
   "source": [
    "# Convert vtt fil to srt"
   ]
  },
  {
   "cell_type": "code",
   "execution_count": 4,
   "metadata": {},
   "outputs": [],
   "source": [
    "\n",
    "def convertContent(fileContents):\n",
    "\n",
    "    replacement = re.sub(r'([\\d]+)\\.([\\d]+)', r'\\1,\\2', fileContents)\n",
    "    replacement = re.sub(r'WEBVTT\\n\\n', '', replacement)\n",
    "    replacement = re.sub(r'^\\d+\\n', '', replacement)\n",
    "    replacement = re.sub(r'\\n\\d+\\n', '\\n', replacement)\n",
    "\n",
    "    return replacement\n",
    "\n",
    "def fileCreate(strNameFile, strData):\n",
    "#--------------------------------\n",
    "# create a text file\n",
    "\n",
    "    try:\n",
    "        f = open(strNameFile, \"w\")\n",
    "        f.writelines(str(strData))\n",
    "        f.close()\n",
    "    except IOError:\n",
    "        strNameFile = strNameFile.split(os.sep)[-1]\n",
    "        f = open(strNameFile, \"w\")\n",
    "        f.writelines(str(strData))\n",
    "        f.close()\n",
    "        print(\"file created: \" + strNameFile + \"\\n\")\n",
    "\n",
    "def readTextFile(strNameFile):\n",
    "    f = open(strNameFile, \"r\")\n",
    "    print(\"file being read: \" + strNameFile + \"\\n\")\n",
    "    return f.read().decode(\"windows-1252\").encode('ascii', 'ignore')\n",
    "\n",
    "def vtt_to_srt(strNameFile):\n",
    "    fileContents = readTextFile(strNameFile)\n",
    "    strData = \"\"\n",
    "    strData = strData + convertContent(fileContents)\n",
    "    strNameFile = strNameFile.replace(\".vtt\",\".srt\")\n",
    "    print(strNameFile)\n",
    "    \n",
    "    fileCreate(strNameFile, strData)\n",
    "\n",
    "\n",
    "def walktree(TopMostPath, callback):\n",
    "\n",
    "    '''recursively descend the directory tree rooted at TopMostPath,\n",
    "       calling the callback function for each regular file'''\n",
    "\n",
    "    for f in os.listdir(TopMostPath):\n",
    "        pathname = os.path.join(TopMostPath, f)\n",
    "        mode = os.stat(pathname)[ST_MODE]\n",
    "        if S_ISDIR(mode):\n",
    "            # It's a directory, recurse into it\n",
    "            walktree(pathname, callback)\n",
    "        elif S_ISREG(mode):\n",
    "            # It's a file, call the callback function\n",
    "            callback(pathname)\n",
    "        else:\n",
    "            # Unknown file type, print a message\n",
    "            print('Skipping %s' % pathname)\n",
    "\n",
    "\n",
    "def convertVTTtoSRT(file):\n",
    "    if '.vtt' in file:\n",
    "        vtt_to_srt(file)\n",
    "\n"
   ]
  },
  {
   "cell_type": "code",
   "execution_count": 5,
   "metadata": {},
   "outputs": [
    {
     "name": "stdout",
     "output_type": "stream",
     "text": [
      "file being read: /home/cer/Desktop/multimodal/multimodal_audio/sounds/travis.vtt\n",
      "\n",
      "/home/cer/Desktop/multimodal/multimodal_audio/sounds/travis.srt\n",
      "file being read: /home/cer/Desktop/multimodal/multimodal_audio/sounds/Kobe Bryant on the Mamba Mentality-kq7OLZGDwDk.en.vtt\n",
      "\n",
      "/home/cer/Desktop/multimodal/multimodal_audio/sounds/Kobe Bryant on the Mamba Mentality-kq7OLZGDwDk.en.srt\n",
      "file being read: /home/cer/Desktop/multimodal/multimodal_audio/sounds/Joey Bada$$ Talks Style, Activism, and Crystals-iY6dw9dEqfo.en.vtt\n",
      "\n",
      "/home/cer/Desktop/multimodal/multimodal_audio/sounds/Joey Bada$$ Talks Style, Activism, and Crystals-iY6dw9dEqfo.en.srt\n",
      "file being read: /home/cer/Desktop/multimodal/multimodal_audio/sounds/'Under-12s can clear the ball with either foot!' Gerrard puts slams Rangers' defending in defeat-2-Q5gHGhCVI.en.vtt\n",
      "\n",
      "/home/cer/Desktop/multimodal/multimodal_audio/sounds/'Under-12s can clear the ball with either foot!' Gerrard puts slams Rangers' defending in defeat-2-Q5gHGhCVI.en.srt\n"
     ]
    }
   ],
   "source": [
    "path = '/home/cer/Desktop/multimodal/multimodal_audio/sounds'\n",
    "\n",
    "\n",
    "walktree(path, convertVTTtoSRT)"
   ]
  },
  {
   "cell_type": "markdown",
   "metadata": {
    "collapsed": true
   },
   "source": [
    "# Convert mp3 to wav"
   ]
  },
  {
   "cell_type": "markdown",
   "metadata": {},
   "source": [
    "# call function: dirMp3toWav from pyaudioAnalysis with args:16000 -c 1\n",
    "        "
   ]
  },
  {
   "cell_type": "code",
   "execution_count": 3,
   "metadata": {},
   "outputs": [
    {
     "data": {
      "text/plain": [
       "0"
      ]
     },
     "execution_count": 3,
     "metadata": {},
     "output_type": "execute_result"
    }
   ],
   "source": [
    "cmd='python /home/cer/Desktop/multimodal/pyAudioAnalysis/pyAudioAnalysis/audioAnalysis.py dirMp3toWav -i /home/cer/Desktop/multimodal/multimodal_audio/sounds -r 16000 -c 1'\n",
    "\n",
    "os.system(cmd)\n",
    "\n"
   ]
  },
  {
   "cell_type": "code",
   "execution_count": null,
   "metadata": {
    "collapsed": true
   },
   "outputs": [],
   "source": []
  }
 ],
 "metadata": {
  "kernelspec": {
   "display_name": "Python 2",
   "language": "python",
   "name": "python2"
  },
  "language_info": {
   "codemirror_mode": {
    "name": "ipython",
    "version": 2
   },
   "file_extension": ".py",
   "mimetype": "text/x-python",
   "name": "python",
   "nbconvert_exporter": "python",
   "pygments_lexer": "ipython2",
   "version": "2.7.15rc1"
  }
 },
 "nbformat": 4,
 "nbformat_minor": 2
}
