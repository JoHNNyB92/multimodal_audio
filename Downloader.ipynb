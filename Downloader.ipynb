{
 "cells": [
  {
   "cell_type": "markdown",
   "metadata": {
    "collapsed": true
   },
   "source": [
    "# Imports\n"
   ]
  },
  {
   "cell_type": "code",
   "execution_count": 11,
   "metadata": {
    "collapsed": true
   },
   "outputs": [],
   "source": [
    "import csv\n",
    "import os\n",
    "import os, re, sys\n",
    "from stat import *"
   ]
  },
  {
   "cell_type": "markdown",
   "metadata": {},
   "source": [
    "# URLs of youtube videos"
   ]
  },
  {
   "cell_type": "code",
   "execution_count": 12,
   "metadata": {},
   "outputs": [
    {
     "name": "stdout",
     "output_type": "stream",
     "text": [
      "https://www.youtube.com/watch?v=iY6dw9dEqfo\n",
      "https://www.youtube.com/watch?v=2-Q5gHGhCVI\n",
      "https://www.youtube.com/watch?v=kq7OLZGDwDk\n",
      "https://www.youtube.com/watch?v=T_-3Vbr625g\n",
      "https://www.youtube.com/watch?v=CvJc1COU9Hk\n",
      "https://www.youtube.com/watch?v=2CSc7Kn-AOY\n",
      "https://www.youtube.com/watch?v=55y_6IKFvCI\n",
      "https://www.youtube.com/watch?v=yybFJ5WkCDo\n",
      "https://www.youtube.com/watch?v=RByqcW0ewnk\n",
      "https://www.youtube.com/watch?v=frYVBZCAnWk\n",
      "https://www.youtube.com/watch?v=Icq60Uxd3As\n",
      "https://www.youtube.com/watch?v=OtgLfXqBt1o\n",
      "https://www.youtube.com/watch?v=FQ6PR2LsnZw\n",
      "https://www.youtube.com/watch?v=zkpelP3x0mw\n",
      "https://www.youtube.com/watch?v=w3SXzjAfJLk\n",
      "https://www.youtube.com/watch?v=QV9nArq7phA\n"
     ]
    }
   ],
   "source": [
    "urls=[]\n",
    "with open(\"dataset.csv\", \"rb\") as f:\n",
    "    reader = csv.reader(f, delimiter=\"\\t\")\n",
    "    for i, line in enumerate(reader):\n",
    "        print (line[0])\n",
    "        urls.append(line[0])"
   ]
  },
  {
   "cell_type": "markdown",
   "metadata": {},
   "source": [
    "# Download avalibale caption in English"
   ]
  },
  {
   "cell_type": "raw",
   "metadata": {
    "collapsed": true
   },
   "source": [
    "youtube-dl --write-auto-sub --skip-download --sub-lang=en https://www.youtube.com/watch?v=iY6dw9dEqfo"
   ]
  },
  {
   "cell_type": "code",
   "execution_count": null,
   "metadata": {
    "collapsed": true
   },
   "outputs": [],
   "source": [
    "for i in urls:\n",
    "    str_url='youtube-dl --write-auto-sub --skip-download --sub-lang=en ' + i\n",
    "    #print str_url\n",
    "    os.system(str_url)\n"
   ]
  },
  {
   "cell_type": "markdown",
   "metadata": {},
   "source": [
    "# Convert vtt fil to srt"
   ]
  },
  {
   "cell_type": "code",
   "execution_count": 15,
   "metadata": {},
   "outputs": [],
   "source": [
    "\n",
    "def convertContent(fileContents):\n",
    "\n",
    "    replacement = re.sub(r'([\\d]+)\\.([\\d]+)', r'\\1,\\2', fileContents)\n",
    "    replacement = re.sub(r'WEBVTT\\n\\n', '', replacement)\n",
    "    replacement = re.sub(r'^\\d+\\n', '', replacement)\n",
    "    replacement = re.sub(r'\\n\\d+\\n', '\\n', replacement)\n",
    "\n",
    "    return replacement\n",
    "\n",
    "def fileCreate(strNamaFile, strData):\n",
    "#--------------------------------\n",
    "# create a text file\n",
    "\n",
    "    try:\n",
    "        f = open(strNamaFile, \"w\")\n",
    "        f.writelines(str(strData))\n",
    "        f.close()\n",
    "    except IOError:\n",
    "        strNamaFile = strNamaFile.split(os.sep)[-1]\n",
    "        f = open(strNamaFile, \"w\")\n",
    "        f.writelines(str(strData))\n",
    "        f.close()\n",
    "        print \"file created: \" + strNamaFile + \"\\n\"\n",
    "\n",
    "def readTextFile(strNamaFile):\n",
    "    f = open(strNamaFile, \"r\")\n",
    "    print \"file being read: \" + strNamaFile + \"\\n\"\n",
    "    return f.read().decode(\"windows-1252\").encode('ascii', 'ignore')\n",
    "\n",
    "def vtt_to_srt(strNamaFile):\n",
    "    fileContents = readTextFile(strNamaFile)\n",
    "    strData = \"\"\n",
    "    strData = strData + convertContent(fileContents)\n",
    "    strNamaFile = strNamaFile.replace(\".vtt\",\".srt\")\n",
    "    print strNamaFile\n",
    "    fileCreate(strNamaFile, strData)\n",
    "\n",
    "\n",
    "def walktree(TopMostPath, callback):\n",
    "\n",
    "    '''recursively descend the directory tree rooted at TopMostPath,\n",
    "       calling the callback function for each regular file'''\n",
    "\n",
    "    for f in os.listdir(TopMostPath):\n",
    "        pathname = os.path.join(TopMostPath, f)\n",
    "        mode = os.stat(pathname)[ST_MODE]\n",
    "        if S_ISDIR(mode):\n",
    "            # It's a directory, recurse into it\n",
    "            walktree(pathname, callback)\n",
    "        elif S_ISREG(mode):\n",
    "            # It's a file, call the callback function\n",
    "            callback(pathname)\n",
    "        else:\n",
    "            # Unknown file type, print a message\n",
    "            print 'Skipping %s' % pathname\n",
    "\n",
    "\n",
    "def convertVTTtoSRT(file):\n",
    "    if '.vtt' in file:\n",
    "        vtt_to_srt(file)\n",
    "\n"
   ]
  },
  {
   "cell_type": "code",
   "execution_count": 16,
   "metadata": {},
   "outputs": [
    {
     "name": "stdout",
     "output_type": "stream",
     "text": [
      "file being read: /home/mscuser/multimodal/multimodal_audio/Things Michelle Obama Couldn’t Say as First Lady-T_-3Vbr625g.en.vtt\n",
      "\n",
      "/home/mscuser/multimodal/multimodal_audio/Things Michelle Obama Couldn’t Say as First Lady-T_-3Vbr625g.en.srt\n",
      "file being read: /home/mscuser/multimodal/multimodal_audio/Highlights from Theresa May's LBC phone-in-OtgLfXqBt1o.en.vtt\n",
      "\n",
      "/home/mscuser/multimodal/multimodal_audio/Highlights from Theresa May's LBC phone-in-OtgLfXqBt1o.en.srt\n",
      "file being read: /home/mscuser/multimodal/multimodal_audio/Travis Scott Shows Off His Broadway Musical Abilities-QV9nArq7phA.en.vtt\n",
      "\n",
      "/home/mscuser/multimodal/multimodal_audio/Travis Scott Shows Off His Broadway Musical Abilities-QV9nArq7phA.en.srt\n",
      "file being read: /home/mscuser/multimodal/multimodal_audio/Joey Bada$$ Talks Style, Activism, and Crystals-iY6dw9dEqfo.en.vtt\n",
      "\n",
      "/home/mscuser/multimodal/multimodal_audio/Joey Bada$$ Talks Style, Activism, and Crystals-iY6dw9dEqfo.en.srt\n",
      "file being read: /home/mscuser/multimodal/multimodal_audio/'Under-12s can clear the ball with either foot!' Gerrard puts slams Rangers' defending in defeat-2-Q5gHGhCVI.en.vtt\n",
      "\n",
      "/home/mscuser/multimodal/multimodal_audio/'Under-12s can clear the ball with either foot!' Gerrard puts slams Rangers' defending in defeat-2-Q5gHGhCVI.en.srt\n",
      "file being read: /home/mscuser/multimodal/multimodal_audio/Confronts Serial Killer & Causes Him To Walk Out Of The Interview!-w3SXzjAfJLk.en.vtt\n",
      "\n",
      "/home/mscuser/multimodal/multimodal_audio/Confronts Serial Killer & Causes Him To Walk Out Of The Interview!-w3SXzjAfJLk.en.srt\n",
      "file being read: /home/mscuser/multimodal/multimodal_audio/ISRAEL POLITICS - Interview with Seth Frantzman-FQ6PR2LsnZw.en.vtt\n",
      "\n",
      "/home/mscuser/multimodal/multimodal_audio/ISRAEL POLITICS - Interview with Seth Frantzman-FQ6PR2LsnZw.en.srt\n",
      "file being read: /home/mscuser/multimodal/multimodal_audio/Westley Allan Dodd - Last Interview before Execution-zkpelP3x0mw.en.vtt\n",
      "\n",
      "/home/mscuser/multimodal/multimodal_audio/Westley Allan Dodd - Last Interview before Execution-zkpelP3x0mw.en.srt\n",
      "file being read: /home/mscuser/multimodal/multimodal_audio/Oxford University MBA - Student Interview - Jürgen Heeg-55y_6IKFvCI.en.vtt\n",
      "\n",
      "/home/mscuser/multimodal/multimodal_audio/Oxford University MBA - Student Interview - Jürgen Heeg-55y_6IKFvCI.en.srt\n",
      "file being read: /home/mscuser/multimodal/multimodal_audio/Interviewing at the University of Rochester-RByqcW0ewnk.en.vtt\n",
      "\n",
      "/home/mscuser/multimodal/multimodal_audio/Interviewing at the University of Rochester-RByqcW0ewnk.en.srt\n",
      "file being read: /home/mscuser/multimodal/multimodal_audio/Kobe Bryant on the Mamba Mentality-kq7OLZGDwDk.en.vtt\n",
      "\n",
      "/home/mscuser/multimodal/multimodal_audio/Kobe Bryant on the Mamba Mentality-kq7OLZGDwDk.en.srt\n",
      "file being read: /home/mscuser/multimodal/multimodal_audio/Tips for a successful interview - applying for a healthcare course at Birmingham City University-yybFJ5WkCDo.en.vtt\n",
      "\n",
      "/home/mscuser/multimodal/multimodal_audio/Tips for a successful interview - applying for a healthcare course at Birmingham City University-yybFJ5WkCDo.en.srt\n",
      "file being read: /home/mscuser/multimodal/multimodal_audio/Sacha Baron Cohen Tried to Get a Confession from O.J. Simpson-CvJc1COU9Hk.en.vtt\n",
      "\n",
      "/home/mscuser/multimodal/multimodal_audio/Sacha Baron Cohen Tried to Get a Confession from O.J. Simpson-CvJc1COU9Hk.en.srt\n",
      "file being read: /home/mscuser/multimodal/multimodal_audio/College Interview Advice from Harvard Student-2CSc7Kn-AOY.en.vtt\n",
      "\n",
      "/home/mscuser/multimodal/multimodal_audio/College Interview Advice from Harvard Student-2CSc7Kn-AOY.en.srt\n"
     ]
    }
   ],
   "source": [
    "path = '/home/mscuser/multimodal/multimodal_audio'\n",
    "\n",
    "walktree(path, convertVTTtoSRT)"
   ]
  },
  {
   "cell_type": "code",
   "execution_count": null,
   "metadata": {
    "collapsed": true
   },
   "outputs": [],
   "source": []
  }
 ],
 "metadata": {
  "kernelspec": {
   "display_name": "Python 2",
   "language": "python",
   "name": "python2"
  },
  "language_info": {
   "codemirror_mode": {
    "name": "ipython",
    "version": 2
   },
   "file_extension": ".py",
   "mimetype": "text/x-python",
   "name": "python",
   "nbconvert_exporter": "python",
   "pygments_lexer": "ipython2",
   "version": "2.7.13"
  }
 },
 "nbformat": 4,
 "nbformat_minor": 2
}
