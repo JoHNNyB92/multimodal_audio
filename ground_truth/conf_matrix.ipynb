{
 "cells": [
  {
   "cell_type": "code",
   "execution_count": 5,
   "metadata": {
    "collapsed": true
   },
   "outputs": [],
   "source": [
    "import csv\n",
    "from sklearn.metrics import confusion_matrix\n",
    "import seaborn\n",
    "from sklearn.metrics import f1_score\n",
    "import plotly.plotly as py\n",
    "from sklearn.metrics import precision_score\n",
    "from sklearn.metrics import recall_score\n",
    "import plotly.graph_objs as go\n",
    "import matplotlib.pyplot as plt"
   ]
  },
  {
   "cell_type": "code",
   "execution_count": 9,
   "metadata": {
    "collapsed": true
   },
   "outputs": [],
   "source": [
    "sentiment_classifier=[]\n",
    "our_results=[]\n",
    "with open('ground_truth_sentimentAnalysis_testdataset.csv') as csvfile:\n",
    "    reader = csv.DictReader(csvfile)\n",
    "    for row in reader:\n",
    "        sentiment_classifier.append(row['sentiment analysis'])\n",
    "        our_results.append(row['sophia'])\n",
    "     "
   ]
  },
  {
   "cell_type": "code",
   "execution_count": 24,
   "metadata": {
    "collapsed": true
   },
   "outputs": [],
   "source": [
    "cm=confusion_matrix(our_results, sentiment_classifier, labels=[\"positive\", \"neutral\", \"negative\"])\n",
    "header=[\"positive\", \"neutral\", \"negative\"]"
   ]
  },
  {
   "cell_type": "code",
   "execution_count": 25,
   "metadata": {},
   "outputs": [
    {
     "data": {
      "image/png": "[encoded data removed]",
      "text/plain": [
       "<matplotlib.figure.Figure at 0x7f4d894387d0>"
      ]
     },
     "metadata": {},
     "output_type": "display_data"
    }
   ],
   "source": [
    "hm = seaborn.heatmap(cm,cbar=True, annot=True, square=True, yticklabels=header,xticklabels=header)\n",
    "plt.show()"
   ]
  },
  {
   "cell_type": "code",
   "execution_count": 26,
   "metadata": {},
   "outputs": [
    {
     "name": "stdout",
     "output_type": "stream",
     "text": [
      "F1_score 0.6575416160715658\n",
      "Precision: 0.6547619047619048\n",
      "Recall: 0.6609848484848485\n"
     ]
    }
   ],
   "source": [
    "f1_=f1_score(our_results, sentiment_classifier, average='macro') \n",
    "prec= precision_score(our_results, sentiment_classifier, average='macro')  \n",
    "rec= recall_score(our_results, sentiment_classifier, average='macro') \n",
    "print \"F1_score\", f1_\n",
    "print \"Precision:\", prec\n",
    "print \"Recall:\", rec"
   ]
  },
  {
   "cell_type": "code",
   "execution_count": 13,
   "metadata": {
    "collapsed": true
   },
   "outputs": [],
   "source": [
    "def compute_class_rec_pre_f1(c_mat):\n",
    "    '''\n",
    "    :param c_mat: the [n_class x n_class] confusion matrix\n",
    "    :return: rec, pre and f1 for each class\n",
    "    '''\n",
    "    n_class = c_mat.shape[0]\n",
    "    rec, pre, f1 = [], [], []\n",
    "    for i in range(n_class):\n",
    "        if np.sum(c_mat[i, :])==0:\n",
    "            rec.append(0)\n",
    "        else:\n",
    "            rec.append(float(c_mat[i, i]) / np.sum(c_mat[i, :]))\n",
    "        if np.sum(c_mat[:, i])==0:\n",
    "            pre.append(0)\n",
    "        else:\n",
    "            pre.append(float(c_mat[i, i]) / np.sum(c_mat[:, i]))\n",
    "        if(rec[-1] + pre[-1])==0:\n",
    "            f1.append(0)        \n",
    "        else:\n",
    "            f1.append(2 * rec[-1] * pre[-1] / (rec[-1] + pre[-1]))\n",
    "    return rec,  pre, f1"
   ]
  },
  {
   "cell_type": "code",
   "execution_count": 14,
   "metadata": {},
   "outputs": [
    {
     "name": "stdout",
     "output_type": "stream",
     "text": [
      "This is the format of your plot grid:\n",
      "[ (1,1) x1,y1 ]  [ (1,2) x2,y2 ]\n",
      "\n"
     ]
    },
    {
     "data": {
      "text/plain": [
       "'file:///home/mscuser/multi/multimodal_audio/ground_truth/temp.html'"
      ]
     },
     "execution_count": 14,
     "metadata": {},
     "output_type": "execute_result"
    }
   ],
   "source": [
    "import numpy as np\n",
    "import plotly\n",
    "import plotly.graph_objs as go\n",
    "class_names=[\"positive\", \"neutral\", \"negative\"]\n",
    "heatmap = go.Heatmap(z=np.flip(cm, axis=0), x=class_names,y=list(reversed(class_names)),colorscale=[[0, '#4422ff'], [1, '#ff4422']],name=\"confusin matrix\", showscale=False)\n",
    "rec, pre, f1 = compute_class_rec_pre_f1(cm)\n",
    "mark_prop1 = dict(color='rgba(150, 180, 80, 0.5)',line=dict(color='rgba(150, 180, 80, 1)', width=2))\n",
    "mark_prop2 = dict(color='rgba(140, 200, 120, 0.5)', line=dict(color='rgba(140, 200, 120, 1)', width=2))\n",
    "mark_prop3 = dict(color='rgba(50, 150, 220, 0.5)', line=dict(color='rgba(50, 150, 220, 1)', width=3))\n",
    "b1 = go.Bar(x=class_names,  y=rec, name=\"rec\", marker=mark_prop1)\n",
    "b2 = go.Bar(x=class_names,  y=pre, name=\"pre\", marker=mark_prop2)\n",
    "b3 = go.Bar(x=class_names,  y=f1, name=\"f1\", marker=mark_prop3)\n",
    "figs = plotly.tools.make_subplots(rows=1, cols=2,subplot_titles=[\"Confusion matrix\", \"Performance measures\"])\n",
    "figs.append_trace(heatmap, 1, 1); figs.append_trace(b1, 1, 2)\n",
    "figs.append_trace(b2, 1, 2); figs.append_trace(b3, 1, 2)\n",
    "plotly.offline.plot(figs, filename=\"temp.html\", auto_open=True)"
   ]
  },
  {
   "cell_type": "code",
   "execution_count": null,
   "metadata": {
    "collapsed": true
   },
   "outputs": [],
   "source": []
  }
 ],
 "metadata": {
  "kernelspec": {
   "display_name": "Python 2",
   "language": "python",
   "name": "python2"
  },
  "language_info": {
   "codemirror_mode": {
    "name": "ipython",
    "version": 2
   },
   "file_extension": ".py",
   "mimetype": "text/x-python",
   "name": "python",
   "nbconvert_exporter": "python",
   "pygments_lexer": "ipython2",
   "version": "2.7.13"
  }
 },
 "nbformat": 4,
 "nbformat_minor": 2
}
