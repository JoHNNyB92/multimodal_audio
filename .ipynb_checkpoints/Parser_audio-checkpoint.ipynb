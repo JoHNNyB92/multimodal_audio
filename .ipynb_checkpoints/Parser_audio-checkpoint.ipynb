{
 "cells": [
  {
   "cell_type": "markdown",
   "metadata": {
    "collapsed": true
   },
   "source": [
    "# sentiment analysis with pyaudioanalysis at the wav files. Train a model from /data/speechEmotion on pyaudioanalysis library. Use this model to classify all the wav files. Have a dictionary with: the title of wav, arrousal and valence metric"
   ]
  },
  {
   "cell_type": "markdown",
   "metadata": {},
   "source": [
    "# Imports"
   ]
  },
  {
   "cell_type": "code",
   "execution_count": 1,
   "metadata": {
    "collapsed": true
   },
   "outputs": [],
   "source": [
    "from pyAudioAnalysis import audioTrainTest as aT\n",
    "import csv\n",
    "import os, re, sys\n",
    "from stat import *\n",
    "import matplotlib.pyplot as plt"
   ]
  },
  {
   "cell_type": "code",
   "execution_count": 59,
   "metadata": {},
   "outputs": [],
   "source": [
    "from pyAudioAnalysis.audioSegmentation import silenceRemoval as sR \n",
    "from pyAudioAnalysis.audioBasicIO import readAudioFile\n",
    "import pysrt\n",
    "\n",
    "repo_path='/home/cer/Desktop/multimodal/multimodal_audio'\n",
    "os.chdir(repo_path)\n",
    "os.getcwd()\n",
    "\n",
    "pkl_file = open('dataset_list.p', 'rb')\n",
    "dataset = pickle.load(pkl_file)\n",
    "pkl_file.close()"
   ]
  },
  {
   "cell_type": "code",
   "execution_count": 135,
   "metadata": {},
   "outputs": [],
   "source": [
    "from datetime import datetime\n",
    "\n",
    "def create_folders(repo_path):\n",
    "    emotions=[\"positive\",\"neutral\",\"negative\"]\n",
    "    os.chdir(repo_path)\n",
    "    for em_dir in emotions:\n",
    "        if (os.path.exists(\"audio/\"+em_dir))==False:\n",
    "            os.mkdir(\"audio/\"+em_dir,777)\n",
    "            print 'Created directory audio/'+em_dir\n",
    "        else:\n",
    "            print 'Directory audio/'+em_dir+' exists.':\n",
    "        \n",
    "    \n",
    "\n",
    "\n",
    "def retrieveSubs(subsPath,repo_path):\n",
    "    os.chdir(repo_path)\n",
    "    subtitles_pol_file=open(subsPath, 'rb')\n",
    "    # Loading the Subtitle\n",
    "    subtitles_pol = pickle.load(subtitles_pol_file)\n",
    "    return subtitles_pol\n",
    "\n",
    "def wavSegmentationFromSubs(relPath,subtitles,repo_path):\n",
    "    os.chdir(repo_path)\n",
    "    audio_name= os.path.basename(os.path.normpath(relPath))\n",
    "    dir_name=os.path.splitext(audio_name)[0]\n",
    "    soundsPath=os.path.dirname(relPath)\n",
    "    if (os.path.exists(soundsPath+\"/\"+dir_name))==False:\n",
    "        os.mkdir(soundsPath+\"/\"+dir_name,777)\n",
    "        print 'Created directory '+soundsPath+\"/\"+dir_name\n",
    "    else:\n",
    "        print 'Directory '+soundsPath+\"/\"+dir_name+' exists.'\n",
    "    os.chdir(soundsPath+\"/\"+dir_name)\n",
    "    #load list\n",
    "    filePath=repo_path+\"/\"+soundsPath+\"/\"+audio_name\n",
    "    for i, val in enumerate(subtitles):\n",
    "        if i==(len(subtitles)-1):\n",
    "            break\n",
    "        #Problem with format of the time\n",
    "        t1=str(subtitles[i][0]).replace(',','.')\n",
    "        t2=str(subtitles[i+1][0]).replace(',','.')\n",
    "        d1 = datetime.strptime(str(t1), \"%H:%M:%S.%f\")\n",
    "        d2 = datetime.strptime(str(t2), \"%H:%M:%S.%f\")\n",
    "        sec=(d2-d1).total_seconds()\n",
    "        mstr=\"ffmpeg -i {} -ss {} -t {} temp{}.wav -loglevel panic -y\".format(filePath, t1, sec,i)\n",
    "        #print mstr\n",
    "        os.system(\"ffmpeg -i {} -ss {} -t {} temp{}.wav \"\n",
    "                  \"-loglevel panic -y\".format(filePath, t1, sec,i))\n",
    "        \n",
    "       \n",
    "    print 'Done splitting wav file '+audio_name+'.'\n",
    "    "
   ]
  },
  {
   "cell_type": "code",
   "execution_count": 136,
   "metadata": {},
   "outputs": [
    {
     "name": "stdout",
     "output_type": "stream",
     "text": [
      "pickle_lists/polarity_1.p\n",
      "Directory audio/1 exists.\n",
      "/home/cer/Desktop/multimodal/multimodal_audio/audio/1\n",
      "/home/cer/Desktop/multimodal/multimodal_audio/audio/1.wav\n",
      "Done splitting wav file 1.wav.\n"
     ]
    }
   ],
   "source": [
    "\n",
    "subs=[]\n",
    "for k in range(0,len(dataset)):\n",
    "    print dataset[\"Pickle\"][k]\n",
    "    subtitles=retrieveSubs(dataset[\"Pickle\"][k],repo_path)\n",
    "    wavSegmentationFromSubs(dataset[\"Relative Path\"][k],subtitles,repo_path)\n",
    "    break"
   ]
  },
  {
   "cell_type": "code",
   "execution_count": null,
   "metadata": {
    "collapsed": true
   },
   "outputs": [],
   "source": [
    "aT.featureAndTrainRegression(\"/home/mscuser/pyaudio/pyAudioAnalysis/pyAudioAnalysis/data/speechEmotion/\", 1, 1, aT.shortTermWindow, aT.shortTermStep, \"svm\", \"/home/mscuser/pyaudio/pyAudioAnalysis/pyAudioAnalysis/data/speechEmotion/\", False)"
   ]
  },
  {
   "cell_type": "markdown",
   "metadata": {},
   "source": [
    "Classify this wav based on the model that trained above"
   ]
  },
  {
   "cell_type": "code",
   "execution_count": 28,
   "metadata": {
    "collapsed": true
   },
   "outputs": [],
   "source": [
    "\n",
    "\n",
    "def sentiments(filepath):\n",
    "    results=aT.fileRegression(filepath, \"/home/mscuser/pyaudio/pyAudioAnalysis/pyAudioAnalysis/data/speechEmotion/\", \"svm\")\n",
    "    return results"
   ]
  },
  {
   "cell_type": "code",
   "execution_count": 72,
   "metadata": {
    "collapsed": true
   },
   "outputs": [],
   "source": [
    "dict={}\n",
    "i=0\n",
    "\n",
    "def walktree(TopMostPath, callback):\n",
    "\n",
    "    '''recursively descend the directory tree rooted at TopMostPath,\n",
    "       calling the callback function for each regular file'''\n",
    "    global dict\n",
    "   \n",
    "    \n",
    "    for f in os.listdir(TopMostPath):\n",
    "        pathname = os.path.join(TopMostPath, f)\n",
    "        mode = os.stat(pathname)[ST_MODE]\n",
    "        if S_ISDIR(mode):\n",
    "            # It's a directory, recurse into it\n",
    "            walktree(pathname, callback)\n",
    "        elif S_ISREG(mode):\n",
    "            # It's a file, call the callback function\n",
    "          \n",
    "            callback(pathname,f)\n",
    "        else:\n",
    "            # Unknown file type, print a message\n",
    "            print 'Skipping %s' % pathname\n",
    "        \n",
    "            \n",
    "\n",
    "def find_sentiment(file,f):\n",
    "    global i\n",
    "    if '.wav' in file:\n",
    "        results=sentiments(file)\n",
    "        dict[i]=((f,results))\n",
    "        i=i+1\n",
    "        \n",
    "      "
   ]
  },
  {
   "cell_type": "code",
   "execution_count": 73,
   "metadata": {
    "collapsed": true
   },
   "outputs": [],
   "source": [
    "path = '/home/mscuser/multimodal/multimodal_audio'\n",
    "walktree(path, find_sentiment)\n",
    "\n",
    "        "
   ]
  },
  {
   "cell_type": "code",
   "execution_count": 74,
   "metadata": {
    "collapsed": true
   },
   "outputs": [
    {
     "name": "stdout",
     "output_type": "stream",
     "text": [
      "{0: ('Travis Scott Shows Off His Broadway Musical Abilities-QV9nArq7phA2222.wav', ([0.42666821056578286, -0.053754142732827193], ['arousal', 'valence'])), 1: ('Travis Scott Shows Off His Broadway Musical Abilities-QV9nArq7phA.wav', ([0.42666821056578286, -0.053754142732827193], ['arousal', 'valence']))}\n"
     ]
    }
   ],
   "source": [
    "print dict"
   ]
  },
  {
   "cell_type": "code",
   "execution_count": null,
   "metadata": {},
   "outputs": [],
   "source": []
  }
 ],
 "metadata": {
  "kernelspec": {
   "display_name": "Python 2",
   "language": "python",
   "name": "python2"
  },
  "language_info": {
   "codemirror_mode": {
    "name": "ipython",
    "version": 2
   },
   "file_extension": ".py",
   "mimetype": "text/x-python",
   "name": "python",
   "nbconvert_exporter": "python",
   "pygments_lexer": "ipython2",
   "version": "2.7.15rc1"
  }
 },
 "nbformat": 4,
 "nbformat_minor": 2
}
