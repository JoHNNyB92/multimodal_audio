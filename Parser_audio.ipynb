{
 "cells": [
  {
   "cell_type": "markdown",
   "metadata": {
    "collapsed": true
   },
   "source": [
    "# sentiment analysis with pyaudioanalysis at the wav files. Train a model from /data/speechEmotion on pyaudioanalysis library. Use this model to classify all the wav files. Have a dictionary with: the title of wav, arrousal and valence metric"
   ]
  },
  {
   "cell_type": "markdown",
   "metadata": {},
   "source": [
    "# Imports"
   ]
  },
  {
   "cell_type": "code",
   "execution_count": 21,
   "metadata": {
    "collapsed": true
   },
   "outputs": [],
   "source": [
    "from pyAudioAnalysis import audioTrainTest as aT\n",
    "import os\n",
    "import csv\n",
    "import os\n",
    "import os, re, sys\n",
    "from stat import *\n",
    "import matplotlib.pyplot as plt"
   ]
  },
  {
   "cell_type": "raw",
   "metadata": {},
   "source": [
    "Train a model form the ground truth in folder /home/mscuser/pyaudio/pyAudioAnalysis/pyAudioAnalysis/data/speechEmotion.\n",
    "CLone it form pyaudioAnalysis"
   ]
  },
  {
   "cell_type": "code",
   "execution_count": 11,
   "metadata": {},
   "outputs": [
    {
     "name": "stdout",
     "output_type": "stream",
     "text": [
      "Analyzing file 1 of 47: /home/mscuser/pyaudio/pyAudioAnalysis/pyAudioAnalysis/data/speechEmotion/00.wav\n",
      "Analyzing file 2 of 47: /home/mscuser/pyaudio/pyAudioAnalysis/pyAudioAnalysis/data/speechEmotion/01.wav\n",
      "Analyzing file 3 of 47: /home/mscuser/pyaudio/pyAudioAnalysis/pyAudioAnalysis/data/speechEmotion/02.wav\n",
      "Analyzing file 4 of 47: /home/mscuser/pyaudio/pyAudioAnalysis/pyAudioAnalysis/data/speechEmotion/03.wav\n",
      "Analyzing file 5 of 47: /home/mscuser/pyaudio/pyAudioAnalysis/pyAudioAnalysis/data/speechEmotion/04.wav\n",
      "Analyzing file 6 of 47: /home/mscuser/pyaudio/pyAudioAnalysis/pyAudioAnalysis/data/speechEmotion/05.wav\n",
      "Analyzing file 7 of 47: /home/mscuser/pyaudio/pyAudioAnalysis/pyAudioAnalysis/data/speechEmotion/06.wav\n",
      "Analyzing file 8 of 47: /home/mscuser/pyaudio/pyAudioAnalysis/pyAudioAnalysis/data/speechEmotion/07.wav\n",
      "Analyzing file 9 of 47: /home/mscuser/pyaudio/pyAudioAnalysis/pyAudioAnalysis/data/speechEmotion/08.wav\n",
      "Analyzing file 10 of 47: /home/mscuser/pyaudio/pyAudioAnalysis/pyAudioAnalysis/data/speechEmotion/09.wav\n",
      "Analyzing file 11 of 47: /home/mscuser/pyaudio/pyAudioAnalysis/pyAudioAnalysis/data/speechEmotion/10.wav\n",
      "Analyzing file 12 of 47: /home/mscuser/pyaudio/pyAudioAnalysis/pyAudioAnalysis/data/speechEmotion/11.wav\n",
      "Analyzing file 13 of 47: /home/mscuser/pyaudio/pyAudioAnalysis/pyAudioAnalysis/data/speechEmotion/12.wav\n",
      "Analyzing file 14 of 47: /home/mscuser/pyaudio/pyAudioAnalysis/pyAudioAnalysis/data/speechEmotion/13.wav\n",
      "Analyzing file 15 of 47: /home/mscuser/pyaudio/pyAudioAnalysis/pyAudioAnalysis/data/speechEmotion/14.wav\n",
      "Analyzing file 16 of 47: /home/mscuser/pyaudio/pyAudioAnalysis/pyAudioAnalysis/data/speechEmotion/15.wav\n",
      "Analyzing file 17 of 47: /home/mscuser/pyaudio/pyAudioAnalysis/pyAudioAnalysis/data/speechEmotion/16.wav\n",
      "Analyzing file 18 of 47: /home/mscuser/pyaudio/pyAudioAnalysis/pyAudioAnalysis/data/speechEmotion/17.wav\n",
      "Analyzing file 19 of 47: /home/mscuser/pyaudio/pyAudioAnalysis/pyAudioAnalysis/data/speechEmotion/18.wav\n",
      "Analyzing file 20 of 47: /home/mscuser/pyaudio/pyAudioAnalysis/pyAudioAnalysis/data/speechEmotion/19.wav\n",
      "Analyzing file 21 of 47: /home/mscuser/pyaudio/pyAudioAnalysis/pyAudioAnalysis/data/speechEmotion/20.wav\n",
      "Analyzing file 22 of 47: /home/mscuser/pyaudio/pyAudioAnalysis/pyAudioAnalysis/data/speechEmotion/21.wav\n",
      "Analyzing file 23 of 47: /home/mscuser/pyaudio/pyAudioAnalysis/pyAudioAnalysis/data/speechEmotion/22.wav\n",
      "Analyzing file 24 of 47: /home/mscuser/pyaudio/pyAudioAnalysis/pyAudioAnalysis/data/speechEmotion/23.wav\n",
      "Analyzing file 25 of 47: /home/mscuser/pyaudio/pyAudioAnalysis/pyAudioAnalysis/data/speechEmotion/24.wav\n",
      "Analyzing file 26 of 47: /home/mscuser/pyaudio/pyAudioAnalysis/pyAudioAnalysis/data/speechEmotion/25.wav\n",
      "Analyzing file 27 of 47: /home/mscuser/pyaudio/pyAudioAnalysis/pyAudioAnalysis/data/speechEmotion/26.wav\n",
      "Analyzing file 28 of 47: /home/mscuser/pyaudio/pyAudioAnalysis/pyAudioAnalysis/data/speechEmotion/27.wav\n",
      "Analyzing file 29 of 47: /home/mscuser/pyaudio/pyAudioAnalysis/pyAudioAnalysis/data/speechEmotion/28.wav\n",
      "Analyzing file 30 of 47: /home/mscuser/pyaudio/pyAudioAnalysis/pyAudioAnalysis/data/speechEmotion/29.wav\n",
      "Analyzing file 31 of 47: /home/mscuser/pyaudio/pyAudioAnalysis/pyAudioAnalysis/data/speechEmotion/30.wav\n",
      "Analyzing file 32 of 47: /home/mscuser/pyaudio/pyAudioAnalysis/pyAudioAnalysis/data/speechEmotion/31.wav\n",
      "Analyzing file 33 of 47: /home/mscuser/pyaudio/pyAudioAnalysis/pyAudioAnalysis/data/speechEmotion/32.wav\n",
      "Analyzing file 34 of 47: /home/mscuser/pyaudio/pyAudioAnalysis/pyAudioAnalysis/data/speechEmotion/33.wav\n",
      "Analyzing file 35 of 47: /home/mscuser/pyaudio/pyAudioAnalysis/pyAudioAnalysis/data/speechEmotion/34.wav\n",
      "Analyzing file 36 of 47: /home/mscuser/pyaudio/pyAudioAnalysis/pyAudioAnalysis/data/speechEmotion/35.wav\n",
      "Analyzing file 37 of 47: /home/mscuser/pyaudio/pyAudioAnalysis/pyAudioAnalysis/data/speechEmotion/36.wav\n",
      "Analyzing file 38 of 47: /home/mscuser/pyaudio/pyAudioAnalysis/pyAudioAnalysis/data/speechEmotion/37.wav\n",
      "Analyzing file 39 of 47: /home/mscuser/pyaudio/pyAudioAnalysis/pyAudioAnalysis/data/speechEmotion/38.wav\n",
      "Analyzing file 40 of 47: /home/mscuser/pyaudio/pyAudioAnalysis/pyAudioAnalysis/data/speechEmotion/39.wav\n",
      "Analyzing file 41 of 47: /home/mscuser/pyaudio/pyAudioAnalysis/pyAudioAnalysis/data/speechEmotion/40.wav\n",
      "Analyzing file 42 of 47: /home/mscuser/pyaudio/pyAudioAnalysis/pyAudioAnalysis/data/speechEmotion/41.wav\n",
      "Analyzing file 43 of 47: /home/mscuser/pyaudio/pyAudioAnalysis/pyAudioAnalysis/data/speechEmotion/42.wav\n",
      "Analyzing file 44 of 47: /home/mscuser/pyaudio/pyAudioAnalysis/pyAudioAnalysis/data/speechEmotion/43.wav\n",
      "Analyzing file 45 of 47: /home/mscuser/pyaudio/pyAudioAnalysis/pyAudioAnalysis/data/speechEmotion/44.wav\n",
      "Analyzing file 46 of 47: /home/mscuser/pyaudio/pyAudioAnalysis/pyAudioAnalysis/data/speechEmotion/45.wav\n",
      "Analyzing file 47 of 47: /home/mscuser/pyaudio/pyAudioAnalysis/pyAudioAnalysis/data/speechEmotion/46.wav\n",
      "Feature extraction complexity ratio: 27.0 x realtime\n",
      "Regression task valence\n",
      "Param\t\tMSE\t\tT-MSE\t\tR-MSE\n",
      "0.0010\t\t0.33\t\t0.43\t\t0.35\n",
      "0.0050\t\t0.35\t\t0.31\t\t0.39\n",
      "0.0100\t\t0.34\t\t0.26\t\t0.36\n",
      "0.0500\t\t0.33\t\t0.13\t\t0.37\n",
      "0.1000\t\t0.31\t\t0.10\t\t0.36\n",
      "0.2500\t\t0.34\t\t0.09\t\t0.34\n",
      "0.5000\t\t0.28\t\t0.09\t\t0.38\t\t best\n",
      "1.0000\t\t0.28\t\t0.09\t\t0.36\n",
      "5.0000\t\t0.31\t\t0.09\t\t0.36\n",
      "10.0000\t\t0.29\t\t0.09\t\t0.35\n",
      "Selected params: 0.50000\n",
      "Regression task arousal\n",
      "Param\t\tMSE\t\tT-MSE\t\tR-MSE\n",
      "0.0010\t\t0.12\t\t0.23\t\t0.35\n",
      "0.0050\t\t0.08\t\t0.15\t\t0.33\t\t best\n",
      "0.0100\t\t0.08\t\t0.13\t\t0.35\n",
      "0.0500\t\t0.13\t\t0.10\t\t0.35\n",
      "0.1000\t\t0.17\t\t0.09\t\t0.33\n",
      "0.2500\t\t0.17\t\t0.09\t\t0.34\n",
      "0.5000\t\t0.17\t\t0.09\t\t0.35\n",
      "1.0000\t\t0.17\t\t0.09\t\t0.32\n",
      "5.0000\t\t0.18\t\t0.09\t\t0.34\n",
      "10.0000\t\t0.18\t\t0.09\t\t0.34\n",
      "Selected params: 0.00500\n"
     ]
    },
    {
     "data": {
      "text/plain": [
       "([0.27666505683560866, 0.075661581787398097],\n",
       " [0.38366486224489799, 0.3332721744897959],\n",
       " [0.5, 0.0050000000000000001])"
      ]
     },
     "execution_count": 11,
     "metadata": {},
     "output_type": "execute_result"
    }
   ],
   "source": [
    "aT.featureAndTrainRegression(\"/home/mscuser/pyaudio/pyAudioAnalysis/pyAudioAnalysis/data/speechEmotion/\", 1, 1, aT.shortTermWindow, aT.shortTermStep, \"svm\", \"/home/mscuser/pyaudio/pyAudioAnalysis/pyAudioAnalysis/data/speechEmotion/\", False)"
   ]
  },
  {
   "cell_type": "markdown",
   "metadata": {},
   "source": [
    "Classify this wav based on the modeal that trained above"
   ]
  },
  {
   "cell_type": "code",
   "execution_count": 28,
   "metadata": {},
   "outputs": [],
   "source": [
    "\n",
    "\n",
    "def sentiments(filepath):\n",
    "    results=aT.fileRegression(filepath, \"/home/mscuser/pyaudio/pyAudioAnalysis/pyAudioAnalysis/data/speechEmotion/\", \"svm\")\n",
    "    return results"
   ]
  },
  {
   "cell_type": "code",
   "execution_count": 72,
   "metadata": {},
   "outputs": [],
   "source": [
    "dict={}\n",
    "i=0\n",
    "\n",
    "def walktree(TopMostPath, callback):\n",
    "\n",
    "    '''recursively descend the directory tree rooted at TopMostPath,\n",
    "       calling the callback function for each regular file'''\n",
    "    global dict\n",
    "   \n",
    "    \n",
    "    for f in os.listdir(TopMostPath):\n",
    "        pathname = os.path.join(TopMostPath, f)\n",
    "        mode = os.stat(pathname)[ST_MODE]\n",
    "        if S_ISDIR(mode):\n",
    "            # It's a directory, recurse into it\n",
    "            walktree(pathname, callback)\n",
    "        elif S_ISREG(mode):\n",
    "            # It's a file, call the callback function\n",
    "          \n",
    "            callback(pathname,f)\n",
    "        else:\n",
    "            # Unknown file type, print a message\n",
    "            print 'Skipping %s' % pathname\n",
    "        \n",
    "            \n",
    "\n",
    "def find_sentiment(file,f):\n",
    "    global i\n",
    "    if '.wav' in file:\n",
    "        results=sentiments(file)\n",
    "        dict[i]=((f,results))\n",
    "        i=i+1\n",
    "        \n",
    "      "
   ]
  },
  {
   "cell_type": "code",
   "execution_count": 73,
   "metadata": {},
   "outputs": [],
   "source": [
    "path = '/home/mscuser/multimodal/multimodal_audio'\n",
    "walktree(path, find_sentiment)\n",
    "\n",
    "        "
   ]
  },
  {
   "cell_type": "code",
   "execution_count": 74,
   "metadata": {},
   "outputs": [
    {
     "name": "stdout",
     "output_type": "stream",
     "text": [
      "{0: ('Travis Scott Shows Off His Broadway Musical Abilities-QV9nArq7phA2222.wav', ([0.42666821056578286, -0.053754142732827193], ['arousal', 'valence'])), 1: ('Travis Scott Shows Off His Broadway Musical Abilities-QV9nArq7phA.wav', ([0.42666821056578286, -0.053754142732827193], ['arousal', 'valence']))}\n"
     ]
    }
   ],
   "source": [
    "print dict"
   ]
  },
  {
   "cell_type": "code",
   "execution_count": null,
   "metadata": {
    "collapsed": true
   },
   "outputs": [],
   "source": []
  }
 ],
 "metadata": {
  "kernelspec": {
   "display_name": "Python 2",
   "language": "python",
   "name": "python2"
  },
  "language_info": {
   "codemirror_mode": {
    "name": "ipython",
    "version": 2
   },
   "file_extension": ".py",
   "mimetype": "text/x-python",
   "name": "python",
   "nbconvert_exporter": "python",
   "pygments_lexer": "ipython2",
   "version": "2.7.13"
  }
 },
 "nbformat": 4,
 "nbformat_minor": 2
}
